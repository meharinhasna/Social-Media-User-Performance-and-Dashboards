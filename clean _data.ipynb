{
 "cells": [
  {
   "cell_type": "code",
   "execution_count": 1,
   "id": "a91359c2",
   "metadata": {},
   "outputs": [],
   "source": [
    "# import libeary\n",
    "import pandas as pd\n",
    "import numpy as np\n",
    "import seaborn as sns\n",
    "import matplotlib.pyplot as plt\n",
    "%matplotlib inline"
   ]
  },
  {
   "cell_type": "code",
   "execution_count": 2,
   "id": "080c0369",
   "metadata": {},
   "outputs": [],
   "source": [
    "#read data set \n",
    "df = pd.read_csv ('Social Media Users.csv')"
   ]
  },
  {
   "cell_type": "code",
   "execution_count": 3,
   "id": "13db56d6",
   "metadata": {},
   "outputs": [
    {
     "data": {
      "text/html": [
       "<div>\n",
       "<style scoped>\n",
       "    .dataframe tbody tr th:only-of-type {\n",
       "        vertical-align: middle;\n",
       "    }\n",
       "\n",
       "    .dataframe tbody tr th {\n",
       "        vertical-align: top;\n",
       "    }\n",
       "\n",
       "    .dataframe thead th {\n",
       "        text-align: right;\n",
       "    }\n",
       "</style>\n",
       "<table border=\"1\" class=\"dataframe\">\n",
       "  <thead>\n",
       "    <tr style=\"text-align: right;\">\n",
       "      <th></th>\n",
       "      <th>Platform</th>\n",
       "      <th>Owner</th>\n",
       "      <th>Primary Usage</th>\n",
       "      <th>Country</th>\n",
       "      <th>Daily Time Spent (min)</th>\n",
       "      <th>Verified Account</th>\n",
       "      <th>Date Joined</th>\n",
       "    </tr>\n",
       "  </thead>\n",
       "  <tbody>\n",
       "    <tr>\n",
       "      <th>0</th>\n",
       "      <td>WhatsApp</td>\n",
       "      <td>Meta</td>\n",
       "      <td>Messaging</td>\n",
       "      <td>Switzerland</td>\n",
       "      <td>113.94</td>\n",
       "      <td>Yes</td>\n",
       "      <td>2019-03-03</td>\n",
       "    </tr>\n",
       "    <tr>\n",
       "      <th>1</th>\n",
       "      <td>WeChat</td>\n",
       "      <td>Tencent</td>\n",
       "      <td>Messaging and social media</td>\n",
       "      <td>Madagascar</td>\n",
       "      <td>49.63</td>\n",
       "      <td>Yes</td>\n",
       "      <td>2023-09-21</td>\n",
       "    </tr>\n",
       "    <tr>\n",
       "      <th>2</th>\n",
       "      <td>Snapchat</td>\n",
       "      <td>Snap Inc.</td>\n",
       "      <td>Multimedia messaging</td>\n",
       "      <td>Pitcairn Islands</td>\n",
       "      <td>29.01</td>\n",
       "      <td>Yes</td>\n",
       "      <td>2020-12-13</td>\n",
       "    </tr>\n",
       "    <tr>\n",
       "      <th>3</th>\n",
       "      <td>Instagram</td>\n",
       "      <td>Meta</td>\n",
       "      <td>Photo and video sharing</td>\n",
       "      <td>Timor-Leste</td>\n",
       "      <td>295.43</td>\n",
       "      <td>Yes</td>\n",
       "      <td>2019-04-21</td>\n",
       "    </tr>\n",
       "    <tr>\n",
       "      <th>4</th>\n",
       "      <td>Threads</td>\n",
       "      <td>Meta</td>\n",
       "      <td>Text-based social networking</td>\n",
       "      <td>Bermuda</td>\n",
       "      <td>71.78</td>\n",
       "      <td>No</td>\n",
       "      <td>2015-07-14</td>\n",
       "    </tr>\n",
       "  </tbody>\n",
       "</table>\n",
       "</div>"
      ],
      "text/plain": [
       "    Platform      Owner                 Primary Usage           Country  \\\n",
       "0   WhatsApp       Meta                     Messaging       Switzerland   \n",
       "1     WeChat    Tencent    Messaging and social media        Madagascar   \n",
       "2   Snapchat  Snap Inc.          Multimedia messaging  Pitcairn Islands   \n",
       "3  Instagram       Meta       Photo and video sharing       Timor-Leste   \n",
       "4    Threads       Meta  Text-based social networking           Bermuda   \n",
       "\n",
       "   Daily Time Spent (min) Verified Account Date Joined  \n",
       "0                  113.94              Yes  2019-03-03  \n",
       "1                   49.63              Yes  2023-09-21  \n",
       "2                   29.01              Yes  2020-12-13  \n",
       "3                  295.43              Yes  2019-04-21  \n",
       "4                   71.78               No  2015-07-14  "
      ]
     },
     "execution_count": 3,
     "metadata": {},
     "output_type": "execute_result"
    }
   ],
   "source": [
    "# showing dataset first 5 rows\n",
    "df.head()"
   ]
  },
  {
   "cell_type": "code",
   "execution_count": 4,
   "id": "9c124b76",
   "metadata": {},
   "outputs": [
    {
     "name": "stdout",
     "output_type": "stream",
     "text": [
      "<class 'pandas.core.frame.DataFrame'>\n",
      "RangeIndex: 10000 entries, 0 to 9999\n",
      "Data columns (total 7 columns):\n",
      " #   Column                  Non-Null Count  Dtype  \n",
      "---  ------                  --------------  -----  \n",
      " 0   Platform                10000 non-null  object \n",
      " 1   Owner                   10000 non-null  object \n",
      " 2   Primary Usage           10000 non-null  object \n",
      " 3   Country                 10000 non-null  object \n",
      " 4   Daily Time Spent (min)  10000 non-null  float64\n",
      " 5   Verified Account        10000 non-null  object \n",
      " 6   Date Joined             10000 non-null  object \n",
      "dtypes: float64(1), object(6)\n",
      "memory usage: 547.0+ KB\n"
     ]
    }
   ],
   "source": [
    "#check dataset information\n",
    "df.info()"
   ]
  },
  {
   "cell_type": "code",
   "execution_count": 5,
   "id": "ddffa376",
   "metadata": {},
   "outputs": [
    {
     "data": {
      "text/plain": [
       "70000"
      ]
     },
     "execution_count": 5,
     "metadata": {},
     "output_type": "execute_result"
    }
   ],
   "source": [
    "# dataset size ( row and columns)\n",
    "df.size"
   ]
  },
  {
   "cell_type": "code",
   "execution_count": 6,
   "id": "eaaa2701",
   "metadata": {},
   "outputs": [
    {
     "data": {
      "text/plain": [
       "(10000, 7)"
      ]
     },
     "execution_count": 6,
     "metadata": {},
     "output_type": "execute_result"
    }
   ],
   "source": [
    "# dataset shape ( row and columns)\n",
    "df.shape"
   ]
  },
  {
   "cell_type": "code",
   "execution_count": 7,
   "id": "0b1c6c9d",
   "metadata": {},
   "outputs": [
    {
     "data": {
      "text/plain": [
       "['Platform',\n",
       " 'Owner',\n",
       " 'Primary Usage',\n",
       " 'Country',\n",
       " 'Daily Time Spent (min)',\n",
       " 'Verified Account',\n",
       " 'Date Joined']"
      ]
     },
     "execution_count": 7,
     "metadata": {},
     "output_type": "execute_result"
    }
   ],
   "source": [
    "# dataset all columns\n",
    "df.columns.tolist()"
   ]
  },
  {
   "cell_type": "code",
   "execution_count": 8,
   "id": "06cea920",
   "metadata": {},
   "outputs": [
    {
     "data": {
      "text/html": [
       "<div>\n",
       "<style scoped>\n",
       "    .dataframe tbody tr th:only-of-type {\n",
       "        vertical-align: middle;\n",
       "    }\n",
       "\n",
       "    .dataframe tbody tr th {\n",
       "        vertical-align: top;\n",
       "    }\n",
       "\n",
       "    .dataframe thead th {\n",
       "        text-align: right;\n",
       "    }\n",
       "</style>\n",
       "<table border=\"1\" class=\"dataframe\">\n",
       "  <thead>\n",
       "    <tr style=\"text-align: right;\">\n",
       "      <th></th>\n",
       "      <th>Daily Time Spent (min)</th>\n",
       "    </tr>\n",
       "  </thead>\n",
       "  <tbody>\n",
       "    <tr>\n",
       "      <th>count</th>\n",
       "      <td>10000.000000</td>\n",
       "    </tr>\n",
       "    <tr>\n",
       "      <th>mean</th>\n",
       "      <td>152.211145</td>\n",
       "    </tr>\n",
       "    <tr>\n",
       "      <th>std</th>\n",
       "      <td>85.142750</td>\n",
       "    </tr>\n",
       "    <tr>\n",
       "      <th>min</th>\n",
       "      <td>5.020000</td>\n",
       "    </tr>\n",
       "    <tr>\n",
       "      <th>25%</th>\n",
       "      <td>78.920000</td>\n",
       "    </tr>\n",
       "    <tr>\n",
       "      <th>50%</th>\n",
       "      <td>152.735000</td>\n",
       "    </tr>\n",
       "    <tr>\n",
       "      <th>75%</th>\n",
       "      <td>225.642500</td>\n",
       "    </tr>\n",
       "    <tr>\n",
       "      <th>max</th>\n",
       "      <td>300.000000</td>\n",
       "    </tr>\n",
       "  </tbody>\n",
       "</table>\n",
       "</div>"
      ],
      "text/plain": [
       "       Daily Time Spent (min)\n",
       "count            10000.000000\n",
       "mean               152.211145\n",
       "std                 85.142750\n",
       "min                  5.020000\n",
       "25%                 78.920000\n",
       "50%                152.735000\n",
       "75%                225.642500\n",
       "max                300.000000"
      ]
     },
     "execution_count": 8,
     "metadata": {},
     "output_type": "execute_result"
    }
   ],
   "source": [
    "#  describe summary of dataset\n",
    "df.describe ()"
   ]
  },
  {
   "cell_type": "code",
   "execution_count": 9,
   "id": "8b269307",
   "metadata": {},
   "outputs": [
    {
     "name": "stdout",
     "output_type": "stream",
     "text": [
      "0\n"
     ]
    }
   ],
   "source": [
    "#check dataset duplicated value\n",
    "print(df.duplicated().sum())"
   ]
  },
  {
   "cell_type": "markdown",
   "id": "c346f580",
   "metadata": {},
   "source": [
    "# Insight and Ovservation\n",
    "\n",
    "- this dataset have no duplicated value"
   ]
  },
  {
   "cell_type": "code",
   "execution_count": 10,
   "id": "71aa4e2b",
   "metadata": {},
   "outputs": [
    {
     "data": {
      "text/plain": [
       "Platform                  0\n",
       "Owner                     0\n",
       "Primary Usage             0\n",
       "Country                   0\n",
       "Daily Time Spent (min)    0\n",
       "Verified Account          0\n",
       "Date Joined               0\n",
       "dtype: int64"
      ]
     },
     "execution_count": 10,
     "metadata": {},
     "output_type": "execute_result"
    }
   ],
   "source": [
    "#check dataset missing value\n",
    "df.isnull().sum()"
   ]
  },
  {
   "cell_type": "code",
   "execution_count": 11,
   "id": "027079e8",
   "metadata": {},
   "outputs": [
    {
     "data": {
      "text/plain": [
       "<Axes: >"
      ]
     },
     "execution_count": 11,
     "metadata": {},
     "output_type": "execute_result"
    },
    {
     "data": {
      "image/png": "[encoded data removed]",
      "text/plain": [
       "<Figure size 640x480 with 2 Axes>"
      ]
     },
     "metadata": {},
     "output_type": "display_data"
    }
   ],
   "source": [
    "#check dataset missing value\n",
    "sns.heatmap(df.isnull(),cmap=\"YlOrBr\")"
   ]
  },
  {
   "cell_type": "markdown",
   "id": "ef050d54",
   "metadata": {},
   "source": [
    "# Insight and Ovservation\n",
    "\n",
    "- this dataset have no null value"
   ]
  },
  {
   "cell_type": "markdown",
   "id": "c41f20c8",
   "metadata": {},
   "source": [
    "_____________"
   ]
  }
 ],
 "metadata": {
  "kernelspec": {
   "display_name": "Python 3",
   "language": "python",
   "name": "python3"
  },
  "language_info": {
   "codemirror_mode": {
    "name": "ipython",
    "version": 3
   },
   "file_extension": ".py",
   "mimetype": "text/x-python",
   "name": "python",
   "nbconvert_exporter": "python",
   "pygments_lexer": "ipython3",
   "version": "3.12.0"
  }
 },
 "nbformat": 4,
 "nbformat_minor": 5
}
