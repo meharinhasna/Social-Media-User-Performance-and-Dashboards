{
 "cells": [
  {
   "cell_type": "code",
   "execution_count": 40,
   "id": "ed35cb8d",
   "metadata": {},
   "outputs": [],
   "source": [
    "# import libeary\n",
    "import pandas as pd\n",
    "import numpy as np\n",
    "import seaborn as sns\n",
    "import matplotlib.pyplot as plt\n",
    "%matplotlib inline\n",
    "import warnings\n",
    "warnings.filterwarnings('ignore')"
   ]
  },
  {
   "cell_type": "code",
   "execution_count": 41,
   "id": "a96f9520",
   "metadata": {},
   "outputs": [],
   "source": [
    "#read clean data set \n",
    "df = pd.read_csv ('Social Media Users.csv')"
   ]
  },
  {
   "cell_type": "code",
   "execution_count": 42,
   "id": "e884e0b2",
   "metadata": {},
   "outputs": [
    {
     "data": {
      "text/html": [
       "<div>\n",
       "<style scoped>\n",
       "    .dataframe tbody tr th:only-of-type {\n",
       "        vertical-align: middle;\n",
       "    }\n",
       "\n",
       "    .dataframe tbody tr th {\n",
       "        vertical-align: top;\n",
       "    }\n",
       "\n",
       "    .dataframe thead th {\n",
       "        text-align: right;\n",
       "    }\n",
       "</style>\n",
       "<table border=\"1\" class=\"dataframe\">\n",
       "  <thead>\n",
       "    <tr style=\"text-align: right;\">\n",
       "      <th></th>\n",
       "      <th>Platform</th>\n",
       "      <th>Owner</th>\n",
       "      <th>Primary Usage</th>\n",
       "      <th>Country</th>\n",
       "      <th>Daily Time Spent (min)</th>\n",
       "      <th>Verified Account</th>\n",
       "      <th>Date Joined</th>\n",
       "    </tr>\n",
       "  </thead>\n",
       "  <tbody>\n",
       "    <tr>\n",
       "      <th>0</th>\n",
       "      <td>WhatsApp</td>\n",
       "      <td>Meta</td>\n",
       "      <td>Messaging</td>\n",
       "      <td>Switzerland</td>\n",
       "      <td>113.94</td>\n",
       "      <td>Yes</td>\n",
       "      <td>2019-03-03</td>\n",
       "    </tr>\n",
       "    <tr>\n",
       "      <th>1</th>\n",
       "      <td>WeChat</td>\n",
       "      <td>Tencent</td>\n",
       "      <td>Messaging and social media</td>\n",
       "      <td>Madagascar</td>\n",
       "      <td>49.63</td>\n",
       "      <td>Yes</td>\n",
       "      <td>2023-09-21</td>\n",
       "    </tr>\n",
       "    <tr>\n",
       "      <th>2</th>\n",
       "      <td>Snapchat</td>\n",
       "      <td>Snap Inc.</td>\n",
       "      <td>Multimedia messaging</td>\n",
       "      <td>Pitcairn Islands</td>\n",
       "      <td>29.01</td>\n",
       "      <td>Yes</td>\n",
       "      <td>2020-12-13</td>\n",
       "    </tr>\n",
       "    <tr>\n",
       "      <th>3</th>\n",
       "      <td>Instagram</td>\n",
       "      <td>Meta</td>\n",
       "      <td>Photo and video sharing</td>\n",
       "      <td>Timor-Leste</td>\n",
       "      <td>295.43</td>\n",
       "      <td>Yes</td>\n",
       "      <td>2019-04-21</td>\n",
       "    </tr>\n",
       "    <tr>\n",
       "      <th>4</th>\n",
       "      <td>Threads</td>\n",
       "      <td>Meta</td>\n",
       "      <td>Text-based social networking</td>\n",
       "      <td>Bermuda</td>\n",
       "      <td>71.78</td>\n",
       "      <td>No</td>\n",
       "      <td>2015-07-14</td>\n",
       "    </tr>\n",
       "  </tbody>\n",
       "</table>\n",
       "</div>"
      ],
      "text/plain": [
       "    Platform      Owner                 Primary Usage           Country  \\\n",
       "0   WhatsApp       Meta                     Messaging       Switzerland   \n",
       "1     WeChat    Tencent    Messaging and social media        Madagascar   \n",
       "2   Snapchat  Snap Inc.          Multimedia messaging  Pitcairn Islands   \n",
       "3  Instagram       Meta       Photo and video sharing       Timor-Leste   \n",
       "4    Threads       Meta  Text-based social networking           Bermuda   \n",
       "\n",
       "   Daily Time Spent (min) Verified Account Date Joined  \n",
       "0                  113.94              Yes  2019-03-03  \n",
       "1                   49.63              Yes  2023-09-21  \n",
       "2                   29.01              Yes  2020-12-13  \n",
       "3                  295.43              Yes  2019-04-21  \n",
       "4                   71.78               No  2015-07-14  "
      ]
     },
     "execution_count": 42,
     "metadata": {},
     "output_type": "execute_result"
    }
   ],
   "source": [
    "# read first 5 rows\n",
    "df.head()"
   ]
  },
  {
   "cell_type": "markdown",
   "id": "017a78f7",
   "metadata": {},
   "source": [
    "# Outliear Remove"
   ]
  },
  {
   "cell_type": "code",
   "execution_count": 43,
   "id": "96c9f399",
   "metadata": {},
   "outputs": [
    {
     "data": {
      "text/plain": [
       "['Daily Time Spent (min)']"
      ]
     },
     "execution_count": 43,
     "metadata": {},
     "output_type": "execute_result"
    }
   ],
   "source": [
    "# define numerical columns\n",
    "numerical_columns = [feature for feature in df.columns if df[feature].dtype != 'O']\n",
    "numerical_columns"
   ]
  },
  {
   "cell_type": "code",
   "execution_count": 44,
   "id": "09293d9b",
   "metadata": {},
   "outputs": [
    {
     "data": {
      "image/png": "[encoded data removed]",
      "text/plain": [
       "<Figure size 665x380 with 1 Axes>"
      ]
     },
     "metadata": {},
     "output_type": "display_data"
    }
   ],
   "source": [
    "# Identify outliers using box plots\n",
    "fig, axs = plt.subplots(len(numerical_columns), 1, dpi=95, figsize=(7, 4))\n",
    "if len(numerical_columns) == 1:\n",
    "    axs = [axs]\n",
    "for i, col in enumerate(numerical_columns):\n",
    "    axs[i].boxplot(df[col].dropna(), vert=False)\n",
    "    axs[i].set_ylabel(col)\n",
    "\n",
    "plt.tight_layout()"
   ]
  },
  {
   "cell_type": "code",
   "execution_count": 45,
   "id": "63708375",
   "metadata": {},
   "outputs": [],
   "source": [
    "non_normal = df['Daily Time Spent (min)']"
   ]
  },
  {
   "cell_type": "code",
   "execution_count": 46,
   "id": "4a0794b1",
   "metadata": {},
   "outputs": [],
   "source": [
    "col = 'Daily Time Spent (min)'\n",
    "q1 = df[col].quantile(0.25)\n",
    "q3 = df[col].quantile(0.75)\n",
    "IQR = q3 - q1\n",
    "lower = q1 - 1.5 * IQR\n",
    "upper = q3 + 1.5 * IQR\n",
    "outliers = df[(df[col] < lower) | (df[col] > upper)]"
   ]
  },
  {
   "cell_type": "code",
   "execution_count": 47,
   "id": "096a66c1",
   "metadata": {},
   "outputs": [
    {
     "data": {
      "text/html": [
       "<div>\n",
       "<style scoped>\n",
       "    .dataframe tbody tr th:only-of-type {\n",
       "        vertical-align: middle;\n",
       "    }\n",
       "\n",
       "    .dataframe tbody tr th {\n",
       "        vertical-align: top;\n",
       "    }\n",
       "\n",
       "    .dataframe thead th {\n",
       "        text-align: right;\n",
       "    }\n",
       "</style>\n",
       "<table border=\"1\" class=\"dataframe\">\n",
       "  <thead>\n",
       "    <tr style=\"text-align: right;\">\n",
       "      <th></th>\n",
       "      <th>Platform</th>\n",
       "      <th>Owner</th>\n",
       "      <th>Primary Usage</th>\n",
       "      <th>Country</th>\n",
       "      <th>Daily Time Spent (min)</th>\n",
       "      <th>Verified Account</th>\n",
       "      <th>Date Joined</th>\n",
       "    </tr>\n",
       "  </thead>\n",
       "  <tbody>\n",
       "  </tbody>\n",
       "</table>\n",
       "</div>"
      ],
      "text/plain": [
       "Empty DataFrame\n",
       "Columns: [Platform, Owner, Primary Usage, Country, Daily Time Spent (min), Verified Account, Date Joined]\n",
       "Index: []"
      ]
     },
     "execution_count": 47,
     "metadata": {},
     "output_type": "execute_result"
    }
   ],
   "source": [
    "outliers"
   ]
  },
  {
   "cell_type": "markdown",
   "id": "af953783",
   "metadata": {},
   "source": [
    "# Insight and Ovservation\n",
    "\n",
    "- Dataset haven't any outliers"
   ]
  },
  {
   "cell_type": "markdown",
   "id": "57a8a83b",
   "metadata": {},
   "source": [
    "# Convert Date Joined to pandas datetime columns\n"
   ]
  },
  {
   "cell_type": "code",
   "execution_count": 48,
   "id": "9565dbd5",
   "metadata": {},
   "outputs": [],
   "source": [
    "df['Date Joined'] = pd.to_datetime(df['Date Joined'] , format = \"%Y-%m-%d\")"
   ]
  },
  {
   "cell_type": "code",
   "execution_count": 49,
   "id": "6e12b258",
   "metadata": {},
   "outputs": [],
   "source": [
    "# save preprocessing dataset\n",
    "df.to_csv(\"preprocessing_data.csv\",index=False)"
   ]
  },
  {
   "cell_type": "markdown",
   "id": "8826782b",
   "metadata": {},
   "source": [
    "__________________________"
   ]
  }
 ],
 "metadata": {
  "kernelspec": {
   "display_name": "Python 3",
   "language": "python",
   "name": "python3"
  },
  "language_info": {
   "codemirror_mode": {
    "name": "ipython",
    "version": 3
   },
   "file_extension": ".py",
   "mimetype": "text/x-python",
   "name": "python",
   "nbconvert_exporter": "python",
   "pygments_lexer": "ipython3",
   "version": "3.12.0"
  }
 },
 "nbformat": 4,
 "nbformat_minor": 5
}
